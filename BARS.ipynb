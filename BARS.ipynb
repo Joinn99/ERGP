{
 "cells": [
  {
   "cell_type": "markdown",
   "metadata": {},
   "source": [
    "# Results of Datasets in BARS\n",
    "This notebook contains the results produced by our ERGP model on three open benchmarking dataset: *Yelp2018*, *Gowalla*, and *Amazon-books* in [BARS](https://openbenchmark.github.io/BARS/)."
   ]
  },
  {
   "cell_type": "markdown",
   "metadata": {},
   "source": [
    "## Yelp2018 dataset"
   ]
  },
  {
   "cell_type": "code",
   "execution_count": 2,
   "metadata": {},
   "outputs": [
    {
     "name": "stderr",
     "output_type": "stream",
     "text": [
      "28 Jun 17:33    INFO  [Training]: train_batch_size = [524288] negative sampling: [{'uniform': 1}]\n",
      "28 Jun 17:33    INFO  [Evaluation]: eval_batch_size = [1048576] eval_args: [{'split': {'RS': [0.7, 0.15, 0.15]}, 'order': 'RO', 'group_by': 'user', 'mode': 'full'}]\n",
      "28 Jun 17:33    INFO  Start training:\n"
     ]
    },
    {
     "name": "stdout",
     "output_type": "stream",
     "text": [
      "Node Num:  5805 Weight Matrix Non-zero:   235238\n",
      "Node Num:  1971 Weight Matrix Non-zero:    80887\n",
      "Node Num:  7629 Weight Matrix Non-zero:   333885\n",
      "Node Num:  4462 Weight Matrix Non-zero:   175636\n",
      "Node Num:  6172 Weight Matrix Non-zero:   272328\n",
      "Node Num:   332 Weight Matrix Non-zero:     3627\n",
      "Node Num:  1360 Weight Matrix Non-zero:    45295\n",
      "Node Num:  7449 Weight Matrix Non-zero:   355580\n",
      "Node Num:   987 Weight Matrix Non-zero:    31824\n",
      "Node Num:  1882 Weight Matrix Non-zero:    81749\n"
     ]
    },
    {
     "name": "stderr",
     "output_type": "stream",
     "text": [
      "28 Jun 17:34    INFO  Start evalutaion:\n",
      "28 Jun 17:35    INFO  recall@10   : 0.042084\n",
      "28 Jun 17:35    INFO  recall@20   : 0.070346\n",
      "28 Jun 17:35    INFO  ndcg@10     : 0.048311\n",
      "28 Jun 17:35    INFO  ndcg@20     : 0.058402\n"
     ]
    }
   ],
   "source": [
    "from ERGP.utils import RecTrainer\n",
    "RecTrainer(dataset='yelp2018').train(verbose=False)"
   ]
  },
  {
   "cell_type": "markdown",
   "metadata": {},
   "source": [
    "## Gowalla dataset"
   ]
  },
  {
   "cell_type": "code",
   "execution_count": 3,
   "metadata": {},
   "outputs": [
    {
     "name": "stderr",
     "output_type": "stream",
     "text": [
      "28 Jun 17:35    INFO  [Training]: train_batch_size = [524288] negative sampling: [{'uniform': 1}]\n",
      "28 Jun 17:35    INFO  [Evaluation]: eval_batch_size = [1048576] eval_args: [{'split': {'RS': [0.7, 0.15, 0.15]}, 'order': 'RO', 'group_by': 'user', 'mode': 'full'}]\n",
      "28 Jun 17:35    INFO  Start training:\n"
     ]
    },
    {
     "name": "stdout",
     "output_type": "stream",
     "text": [
      "Node Num: 10697 Weight Matrix Non-zero:   405139\n",
      "Node Num:  5095 Weight Matrix Non-zero:   239554\n",
      "Node Num: 10143 Weight Matrix Non-zero:   531145\n",
      "Node Num: 13967 Weight Matrix Non-zero:   496578\n",
      "Node Num:  1080 Weight Matrix Non-zero:    28474\n"
     ]
    },
    {
     "name": "stderr",
     "output_type": "stream",
     "text": [
      "28 Jun 17:37    INFO  Start evalutaion:\n",
      "28 Jun 17:37    INFO  recall@10   : 0.131393\n",
      "28 Jun 17:37    INFO  recall@20   : 0.188398\n",
      "28 Jun 17:37    INFO  ndcg@10     : 0.140227\n",
      "28 Jun 17:37    INFO  ndcg@20     : 0.156609\n"
     ]
    }
   ],
   "source": [
    "from ERGP.utils import RecTrainer\n",
    "RecTrainer(dataset='gowalla').train(verbose=False)"
   ]
  },
  {
   "cell_type": "markdown",
   "metadata": {},
   "source": [
    "## Amazon-books dataset"
   ]
  },
  {
   "cell_type": "code",
   "execution_count": 4,
   "metadata": {},
   "outputs": [
    {
     "name": "stderr",
     "output_type": "stream",
     "text": [
      "28 Jun 17:38    INFO  [Training]: train_batch_size = [524288] negative sampling: [{'uniform': 1}]\n",
      "28 Jun 17:38    INFO  [Evaluation]: eval_batch_size = [1048576] eval_args: [{'split': {'RS': [0.7, 0.15, 0.15]}, 'order': 'RO', 'group_by': 'user', 'mode': 'full'}]\n",
      "28 Jun 17:38    INFO  Start training:\n"
     ]
    },
    {
     "name": "stdout",
     "output_type": "stream",
     "text": [
      "Node Num:  7603 Weight Matrix Non-zero:   281594\n",
      "Node Num:  6178 Weight Matrix Non-zero:   241619\n",
      "Node Num:  9306 Weight Matrix Non-zero:   457180\n",
      "Node Num: 13265 Weight Matrix Non-zero:   720816\n",
      "Node Num:  6470 Weight Matrix Non-zero:   391118\n",
      "Node Num:  7706 Weight Matrix Non-zero:   357263\n",
      "Node Num:  8767 Weight Matrix Non-zero:   224790\n",
      "Node Num:  8963 Weight Matrix Non-zero:   448256\n",
      "Node Num: 12388 Weight Matrix Non-zero:   473799\n",
      "Node Num: 10954 Weight Matrix Non-zero:   513278\n"
     ]
    },
    {
     "name": "stderr",
     "output_type": "stream",
     "text": [
      "28 Jun 17:41    INFO  Start evalutaion:\n",
      "28 Jun 17:43    INFO  recall@10   : 0.045572\n",
      "28 Jun 17:43    INFO  recall@20   : 0.071664\n",
      "28 Jun 17:43    INFO  ndcg@10     : 0.047700\n",
      "28 Jun 17:43    INFO  ndcg@20     : 0.057958\n"
     ]
    }
   ],
   "source": [
    "from ERGP.utils import RecTrainer\n",
    "RecTrainer(dataset='amazon-books').train(verbose=False)"
   ]
  }
 ],
 "metadata": {
  "kernelspec": {
   "display_name": "GraphRec-Jupyter",
   "language": "python",
   "name": "graphrec-jupyter"
  },
  "language_info": {
   "codemirror_mode": {
    "name": "ipython",
    "version": 3
   },
   "file_extension": ".py",
   "mimetype": "text/x-python",
   "name": "python",
   "nbconvert_exporter": "python",
   "pygments_lexer": "ipython3",
   "version": "3.9.12"
  },
  "orig_nbformat": 4
 },
 "nbformat": 4,
 "nbformat_minor": 2
}
